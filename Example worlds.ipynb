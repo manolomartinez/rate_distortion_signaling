{
 "cells": [
  {
   "cell_type": "code",
   "execution_count": 1,
   "metadata": {
    "collapsed": false
   },
   "outputs": [],
   "source": [
    "import numpy as np\n",
    "import networkx as nx\n",
    "import dit\n",
    "import itertools as it\n",
    "from ast import literal_eval as fromstr\n",
    "import matplotlib.pyplot as plt\n",
    "%matplotlib inline"
   ]
  },
  {
   "cell_type": "markdown",
   "metadata": {},
   "source": [
    "# Example Worlds"
   ]
  },
  {
   "cell_type": "markdown",
   "metadata": {},
   "source": [
    "## First, a world with a couple of \"essence kinds\"."
   ]
  },
  {
   "cell_type": "code",
   "execution_count": 105,
   "metadata": {
    "collapsed": true
   },
   "outputs": [],
   "source": [
    "graph1 = nx.DiGraph()"
   ]
  },
  {
   "cell_type": "code",
   "execution_count": 106,
   "metadata": {
    "collapsed": true
   },
   "outputs": [],
   "source": [
    "graph1.add_edges_from([(0, 1), (0, 2), (3, 4), (3, 5)])"
   ]
  },
  {
   "cell_type": "code",
   "execution_count": 108,
   "metadata": {
    "collapsed": true
   },
   "outputs": [],
   "source": [
    "for node in [0, 3]:\n",
    "    graph1.node[node]['dist'] = essence_prob\n",
    "for node in [1, 2, 4, 5]:\n",
    "    graph1.node[node]['dist'] = noisy_essence"
   ]
  },
  {
   "cell_type": "markdown",
   "metadata": {},
   "source": [
    "Then we convert this graph to a dit distribution"
   ]
  },
  {
   "cell_type": "code",
   "execution_count": 110,
   "metadata": {
    "collapsed": true
   },
   "outputs": [],
   "source": [
    "two_essence_kinds = dit.distribution_from_bayesnet(graph1, sample_space=outcomes)"
   ]
  },
  {
   "cell_type": "code",
   "execution_count": 111,
   "metadata": {
    "collapsed": true
   },
   "outputs": [],
   "source": [
    "two_essence_kinds.set_rv_names(['P' + str(n) for n in range(1, 7)])"
   ]
  },
  {
   "cell_type": "code",
   "execution_count": 112,
   "metadata": {
    "collapsed": true
   },
   "outputs": [],
   "source": [
    "import pickle as p"
   ]
  },
  {
   "cell_type": "code",
   "execution_count": 113,
   "metadata": {
    "collapsed": true
   },
   "outputs": [],
   "source": [
    "with open(\"two_essence_kinds_pmf.pickle\", \"wb\") as pfile:\n",
    "    p.dump(two_essence_kinds.pmf, pfile)"
   ]
  },
  {
   "cell_type": "markdown",
   "metadata": {},
   "source": [
    "This world can be plausibly described as one with two \"essence kinds\": the one that stems from 0, and the one that stems from 5. If the detectable property corresponds to, e.g., random variable 1, and the payoff relevant property to, e.g., rv 2.\n",
    "\n",
    "Now, I'll do the same thing but with more children per essence node:"
   ]
  },
  {
   "cell_type": "code",
   "execution_count": 45,
   "metadata": {
    "collapsed": false
   },
   "outputs": [],
   "source": [
    "essence_kind1 = nx.star_graph(4)\n",
    "essence_kind2 = nx.star_graph(4)\n",
    "two_essence_kinds = nx.disjoint_union(essence_kind1, essence_kind2)"
   ]
  },
  {
   "cell_type": "code",
   "execution_count": 46,
   "metadata": {
    "collapsed": false
   },
   "outputs": [],
   "source": [
    "two_essence_directed = two_essence_kinds.to_directed()"
   ]
  },
  {
   "cell_type": "code",
   "execution_count": 47,
   "metadata": {
    "collapsed": false
   },
   "outputs": [],
   "source": [
    "for edge in two_essence_directed.edges():\n",
    "    if edge[0] not in [0, 5]:\n",
    "        two_essence_directed.remove_edge(*edge)"
   ]
  },
  {
   "cell_type": "code",
   "execution_count": 59,
   "metadata": {
    "collapsed": true
   },
   "outputs": [],
   "source": [
    "def noisy_essence(node_val, parent_val):\n",
    "    cond_distrib = np.array([[.95, .05], [.05, .95]])\n",
    "    return cond_distrib[fromstr(node_val), fromstr(list(parent_val.values())[0])]\n",
    "\n",
    "def essence_prob(node_val, parent_val):\n",
    "    return 0.5"
   ]
  },
  {
   "cell_type": "code",
   "execution_count": 60,
   "metadata": {
    "collapsed": false
   },
   "outputs": [],
   "source": [
    "for node in [0, 5]:\n",
    "    two_essence_directed.node[node]['dist'] = essence_prob\n",
    "for node in [1, 2, 3, 4, 6, 7, 8, 9]:\n",
    "    two_essence_directed.node[node]['dist'] = noisy_essence"
   ]
  },
  {
   "cell_type": "code",
   "execution_count": 61,
   "metadata": {
    "collapsed": true
   },
   "outputs": [],
   "source": [
    "outcomes = [''.join(outcome) for outcome in it.product('01', repeat=10)]"
   ]
  },
  {
   "cell_type": "code",
   "execution_count": 62,
   "metadata": {
    "collapsed": false
   },
   "outputs": [],
   "source": [
    "two_essence_dist = dit.distribution_from_bayesnet(two_essence_directed, sample_space=outcomes)"
   ]
  },
  {
   "cell_type": "markdown",
   "metadata": {},
   "source": [
    "# The Blahut Algorithm "
   ]
  },
  {
   "cell_type": "markdown",
   "metadata": {},
   "source": [
    "Now, we calculate the R(D) curve using Blahut's algorithm."
   ]
  },
  {
   "cell_type": "code",
   "execution_count": 64,
   "metadata": {
    "collapsed": true
   },
   "outputs": [],
   "source": [
    "import blahut as b"
   ]
  },
  {
   "cell_type": "code",
   "execution_count": 65,
   "metadata": {
    "collapsed": true
   },
   "outputs": [],
   "source": [
    "import imp"
   ]
  },
  {
   "cell_type": "code",
   "execution_count": 66,
   "metadata": {
    "collapsed": true
   },
   "outputs": [],
   "source": [
    "imp.reload(b);"
   ]
  },
  {
   "cell_type": "code",
   "execution_count": null,
   "metadata": {
    "collapsed": false
   },
   "outputs": [],
   "source": [
    "rdt = b.RDT(two_essence_dist, a=10, b=.01, K=300)"
   ]
  },
  {
   "cell_type": "code",
   "execution_count": 115,
   "metadata": {
    "collapsed": true
   },
   "outputs": [],
   "source": [
    "results = rdt.all_points()"
   ]
  },
  {
   "cell_type": "code",
   "execution_count": 116,
   "metadata": {
    "collapsed": false
   },
   "outputs": [
    {
     "data": {
      "text/plain": [
       "[<matplotlib.lines.Line2D at 0x7fcaa4a4c860>]"
      ]
     },
     "execution_count": 116,
     "metadata": {},
     "output_type": "execute_result"
    },
    {
     "data": {
      "image/png": "[encoded data removed]",
      "text/plain": [
       "<matplotlib.figure.Figure at 0x7fcaa4b66588>"
      ]
     },
     "metadata": {},
     "output_type": "display_data"
    }
   ],
   "source": [
    "plt.plot(results[1], results[0])"
   ]
  },
  {
   "cell_type": "code",
   "execution_count": 79,
   "metadata": {
    "collapsed": false
   },
   "outputs": [
    {
     "data": {
      "text/plain": [
       "(0.031866901282006171, 2.9328817829583187)"
      ]
     },
     "execution_count": 79,
     "metadata": {},
     "output_type": "execute_result"
    }
   ],
   "source": [
    "rdt.blahut(0)"
   ]
  },
  {
   "cell_type": "markdown",
   "metadata": {},
   "source": [
    "Now let's see if results are the same with that other guys's implementation"
   ]
  },
  {
   "cell_type": "code",
   "execution_count": 21,
   "metadata": {
    "collapsed": true
   },
   "outputs": [],
   "source": [
    "import blahut_github as bg"
   ]
  },
  {
   "cell_type": "code",
   "execution_count": 23,
   "metadata": {
    "collapsed": false
   },
   "outputs": [
    {
     "data": {
      "text/plain": [
       "array([-2.        , -1.98009967, -1.96039735, -1.94089107, -1.92157888,\n",
       "       -1.90245885, -1.88352907, -1.86478764, -1.84623269, -1.82786237])"
      ]
     },
     "execution_count": 23,
     "metadata": {},
     "output_type": "execute_result"
    }
   ],
   "source": [
    "rdt.s"
   ]
  },
  {
   "cell_type": "code",
   "execution_count": 29,
   "metadata": {
    "collapsed": false
   },
   "outputs": [
    {
     "name": "stdout",
     "output_type": "stream",
     "text": [
      "(0.72464005270532028, 0.95257412682243325)\n",
      "(0.66418680532039243, 0.9378775671660966)\n",
      "(0.60140063277384848, 0.92101310111609669)\n",
      "(0.53817086171015616, 0.90224790247393138)\n",
      "(0.47625021910040172, 0.88194302797904556)\n",
      "(0.41711718930141867, 0.86051716056811167)\n",
      "(0.36189695271630651, 0.83840863576436964)\n",
      "(0.3113396670911206, 0.81604163338743307)\n",
      "(0.26584450020970762, 0.79380031485530722)\n",
      "(0.22551316939476776, 0.77201233112060308)\n"
     ]
    }
   ],
   "source": [
    "for beta in rdt.s:\n",
    "    print(bg.BlahutArimato(rdt.dist_matrix, rdt.pmf, beta))"
   ]
  },
  {
   "cell_type": "markdown",
   "metadata": {
    "collapsed": true
   },
   "source": [
    "# Bernoulli Source\n",
    "\n",
    "So, I am not sure whether this actually works. I am going to try one of the channels for which I know the answer, and see if I get the right results"
   ]
  },
  {
   "cell_type": "code",
   "execution_count": 27,
   "metadata": {
    "collapsed": true
   },
   "outputs": [],
   "source": [
    "bernoulli = dit.Distribution({'0': 1/2, '1': 1/2})"
   ]
  },
  {
   "cell_type": "code",
   "execution_count": 28,
   "metadata": {
    "collapsed": true
   },
   "outputs": [],
   "source": [
    "rdt = b.RDT(bernoulli, b=.1, epsilon=0.000001)"
   ]
  },
  {
   "cell_type": "code",
   "execution_count": 70,
   "metadata": {
    "collapsed": true
   },
   "outputs": [],
   "source": [
    "results = rdt.all_points()"
   ]
  },
  {
   "cell_type": "code",
   "execution_count": 71,
   "metadata": {
    "collapsed": false
   },
   "outputs": [
    {
     "data": {
      "text/plain": [
       "array([[ 0.04742587,  0.06212243,  0.0789869 ,  0.0977521 ,  0.11805697,\n",
       "         0.13948284,  0.16159136,  0.18395837,  0.20619969,  0.22798767],\n",
       "       [ 0.78762565,  0.7388394 ,  0.68728657,  0.63434618,  0.5813495 ,\n",
       "         0.52947401,  0.47967582,  0.4326616 ,  0.38889357,  0.34861719]])"
      ]
     },
     "execution_count": 71,
     "metadata": {},
     "output_type": "execute_result"
    }
   ],
   "source": [
    "results"
   ]
  },
  {
   "cell_type": "code",
   "execution_count": null,
   "metadata": {
    "collapsed": true
   },
   "outputs": [],
   "source": [
    "dit.shannon.entropy(0.5) - dit.shannon.entropy(0.20619969)"
   ]
  },
  {
   "cell_type": "code",
   "execution_count": 39,
   "metadata": {
    "collapsed": true
   },
   "outputs": [],
   "source": [
    "import blahut_github as bg"
   ]
  },
  {
   "cell_type": "code",
   "execution_count": 42,
   "metadata": {
    "collapsed": true
   },
   "outputs": [],
   "source": [
    "bg.BlahutArimato?"
   ]
  },
  {
   "cell_type": "code",
   "execution_count": 41,
   "metadata": {
    "collapsed": false
   },
   "outputs": [
    {
     "data": {
      "text/plain": [
       "array([-2.        , -1.98009967, -1.96039735, -1.94089107, -1.92157888,\n",
       "       -1.90245885, -1.88352907, -1.86478764, -1.84623269, -1.82786237])"
      ]
     },
     "execution_count": 41,
     "metadata": {},
     "output_type": "execute_result"
    }
   ],
   "source": [
    "rdt.s"
   ]
  },
  {
   "cell_type": "code",
   "execution_count": null,
   "metadata": {
    "collapsed": true
   },
   "outputs": [],
   "source": [
    "bg.BlahutArimato(rdt.dist_matrix, rdt.pmf, -2)"
   ]
  },
  {
   "cell_type": "code",
   "execution_count": null,
   "metadata": {
    "collapsed": true
   },
   "outputs": [],
   "source": []
  }
 ],
 "metadata": {
  "kernelspec": {
   "display_name": "Python [Root]",
   "language": "python",
   "name": "Python [Root]"
  },
  "language_info": {
   "codemirror_mode": {
    "name": "ipython",
    "version": 3
   },
   "file_extension": ".py",
   "mimetype": "text/x-python",
   "name": "python",
   "nbconvert_exporter": "python",
   "pygments_lexer": "ipython3",
   "version": "3.5.3"
  }
 },
 "nbformat": 4,
 "nbformat_minor": 1
}
